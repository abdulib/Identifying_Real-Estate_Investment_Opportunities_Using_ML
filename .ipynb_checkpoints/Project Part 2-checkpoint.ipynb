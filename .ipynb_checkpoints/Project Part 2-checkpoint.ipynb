{
 "cells": [
  {
   "cell_type": "markdown",
   "id": "b1031503",
   "metadata": {},
   "source": [
    "# Part 3 "
   ]
  },
  {
   "cell_type": "code",
   "execution_count": 335,
   "id": "30b158ed",
   "metadata": {},
   "outputs": [],
   "source": [
    "import pandas as pd\n",
    "\n",
    "\n",
    "import matplotlib.pyplot as plt\n",
    "import numpy as np"
   ]
  },
  {
   "cell_type": "code",
   "execution_count": 265,
   "id": "dbd40cdd",
   "metadata": {},
   "outputs": [],
   "source": [
    "atl_sold = pd.read_excel('atl_sold.xlsx')"
   ]
  },
  {
   "cell_type": "code",
   "execution_count": 266,
   "id": "958b5126",
   "metadata": {},
   "outputs": [
    {
     "data": {
      "text/html": [
       "<div>\n",
       "<style scoped>\n",
       "    .dataframe tbody tr th:only-of-type {\n",
       "        vertical-align: middle;\n",
       "    }\n",
       "\n",
       "    .dataframe tbody tr th {\n",
       "        vertical-align: top;\n",
       "    }\n",
       "\n",
       "    .dataframe thead th {\n",
       "        text-align: right;\n",
       "    }\n",
       "</style>\n",
       "<table border=\"1\" class=\"dataframe\">\n",
       "  <thead>\n",
       "    <tr style=\"text-align: right;\">\n",
       "      <th></th>\n",
       "      <th>zpid</th>\n",
       "      <th>SalePrice</th>\n",
       "      <th>beds</th>\n",
       "      <th>baths</th>\n",
       "      <th>area</th>\n",
       "      <th>latitude</th>\n",
       "      <th>longitude</th>\n",
       "      <th>zestimate</th>\n",
       "      <th>taxAssessedValue</th>\n",
       "      <th>DaysOnZillow</th>\n",
       "      <th>rentZestimate</th>\n",
       "      <th>lotAreaValue</th>\n",
       "      <th>LotSize (sqft)</th>\n",
       "      <th>DateSold</th>\n",
       "      <th>homeType_CONDO</th>\n",
       "      <th>homeType_SINGLE_FAMILY</th>\n",
       "      <th>homeType_TOWNHOUSE</th>\n",
       "    </tr>\n",
       "  </thead>\n",
       "  <tbody>\n",
       "    <tr>\n",
       "      <th>0</th>\n",
       "      <td>2066268981</td>\n",
       "      <td>412500</td>\n",
       "      <td>2</td>\n",
       "      <td>2</td>\n",
       "      <td>1045</td>\n",
       "      <td>NaN</td>\n",
       "      <td>NaN</td>\n",
       "      <td>412500</td>\n",
       "      <td>412500</td>\n",
       "      <td>-1</td>\n",
       "      <td>2548</td>\n",
       "      <td>1045.44</td>\n",
       "      <td>1.045440e+03</td>\n",
       "      <td>11/23/2022</td>\n",
       "      <td>1</td>\n",
       "      <td>0</td>\n",
       "      <td>0</td>\n",
       "    </tr>\n",
       "    <tr>\n",
       "      <th>1</th>\n",
       "      <td>2087822442</td>\n",
       "      <td>189900</td>\n",
       "      <td>1</td>\n",
       "      <td>1</td>\n",
       "      <td>0</td>\n",
       "      <td>33.779156</td>\n",
       "      <td>-84.376150</td>\n",
       "      <td>189900</td>\n",
       "      <td>189900</td>\n",
       "      <td>-1</td>\n",
       "      <td>1717</td>\n",
       "      <td>609.84</td>\n",
       "      <td>6.098400e+02</td>\n",
       "      <td>11/23/2022</td>\n",
       "      <td>1</td>\n",
       "      <td>0</td>\n",
       "      <td>0</td>\n",
       "    </tr>\n",
       "    <tr>\n",
       "      <th>2</th>\n",
       "      <td>337655461</td>\n",
       "      <td>600000</td>\n",
       "      <td>3</td>\n",
       "      <td>4</td>\n",
       "      <td>2356</td>\n",
       "      <td>33.746944</td>\n",
       "      <td>-84.325325</td>\n",
       "      <td>528700</td>\n",
       "      <td>100000</td>\n",
       "      <td>-1</td>\n",
       "      <td>3364</td>\n",
       "      <td>4356.00</td>\n",
       "      <td>4.356000e+03</td>\n",
       "      <td>11/23/2022</td>\n",
       "      <td>0</td>\n",
       "      <td>0</td>\n",
       "      <td>1</td>\n",
       "    </tr>\n",
       "    <tr>\n",
       "      <th>3</th>\n",
       "      <td>35891748</td>\n",
       "      <td>350000</td>\n",
       "      <td>4</td>\n",
       "      <td>2</td>\n",
       "      <td>1678</td>\n",
       "      <td>33.700195</td>\n",
       "      <td>-84.400860</td>\n",
       "      <td>350300</td>\n",
       "      <td>296100</td>\n",
       "      <td>-1</td>\n",
       "      <td>2300</td>\n",
       "      <td>2342.00</td>\n",
       "      <td>1.020175e+08</td>\n",
       "      <td>11/23/2022</td>\n",
       "      <td>0</td>\n",
       "      <td>1</td>\n",
       "      <td>0</td>\n",
       "    </tr>\n",
       "    <tr>\n",
       "      <th>4</th>\n",
       "      <td>35915938</td>\n",
       "      <td>360000</td>\n",
       "      <td>2</td>\n",
       "      <td>1</td>\n",
       "      <td>0</td>\n",
       "      <td>33.810608</td>\n",
       "      <td>-84.418240</td>\n",
       "      <td>360300</td>\n",
       "      <td>473300</td>\n",
       "      <td>-1</td>\n",
       "      <td>2309</td>\n",
       "      <td>0.34</td>\n",
       "      <td>1.481040e+04</td>\n",
       "      <td>11/23/2022</td>\n",
       "      <td>0</td>\n",
       "      <td>1</td>\n",
       "      <td>0</td>\n",
       "    </tr>\n",
       "  </tbody>\n",
       "</table>\n",
       "</div>"
      ],
      "text/plain": [
       "         zpid  SalePrice  beds  baths  area   latitude  longitude  zestimate  \\\n",
       "0  2066268981     412500     2      2  1045        NaN        NaN     412500   \n",
       "1  2087822442     189900     1      1     0  33.779156 -84.376150     189900   \n",
       "2   337655461     600000     3      4  2356  33.746944 -84.325325     528700   \n",
       "3    35891748     350000     4      2  1678  33.700195 -84.400860     350300   \n",
       "4    35915938     360000     2      1     0  33.810608 -84.418240     360300   \n",
       "\n",
       "   taxAssessedValue  DaysOnZillow  rentZestimate  lotAreaValue  \\\n",
       "0            412500            -1           2548       1045.44   \n",
       "1            189900            -1           1717        609.84   \n",
       "2            100000            -1           3364       4356.00   \n",
       "3            296100            -1           2300       2342.00   \n",
       "4            473300            -1           2309          0.34   \n",
       "\n",
       "   LotSize (sqft)    DateSold  homeType_CONDO  homeType_SINGLE_FAMILY  \\\n",
       "0    1.045440e+03  11/23/2022               1                       0   \n",
       "1    6.098400e+02  11/23/2022               1                       0   \n",
       "2    4.356000e+03  11/23/2022               0                       0   \n",
       "3    1.020175e+08  11/23/2022               0                       1   \n",
       "4    1.481040e+04  11/23/2022               0                       1   \n",
       "\n",
       "   homeType_TOWNHOUSE  \n",
       "0                   0  \n",
       "1                   0  \n",
       "2                   1  \n",
       "3                   0  \n",
       "4                   0  "
      ]
     },
     "execution_count": 266,
     "metadata": {},
     "output_type": "execute_result"
    }
   ],
   "source": [
    "atl_sold.head()"
   ]
  },
  {
   "cell_type": "code",
   "execution_count": 267,
   "id": "ae102fa0",
   "metadata": {},
   "outputs": [],
   "source": [
    "lat_med = atl_sold['latitude'].median()\n",
    "# lat_med\n",
    "lon_med = atl_sold['longitude'].median()\n",
    "# lon_med"
   ]
  },
  {
   "cell_type": "code",
   "execution_count": 268,
   "id": "295854a1",
   "metadata": {},
   "outputs": [],
   "source": [
    "atl_sold['longitude'].fillna(lon_med, inplace=True)\n",
    "\n",
    "atl_sold['latitude'].fillna(lat_med, inplace=True)"
   ]
  },
  {
   "cell_type": "code",
   "execution_count": 269,
   "id": "9f66109d",
   "metadata": {},
   "outputs": [],
   "source": [
    "dataset = atl_sold.drop('DateSold', axis=1)\n",
    "dataset = dataset.drop('zpid', axis=1)"
   ]
  },
  {
   "cell_type": "code",
   "execution_count": 271,
   "id": "b7f9bc0c",
   "metadata": {},
   "outputs": [],
   "source": [
    "sold_labels = dataset[\"SalePrice\"].copy()\n",
    "sold = dataset.drop(\"SalePrice\", axis=1) # drop labels for training set\n"
   ]
  },
  {
   "cell_type": "code",
   "execution_count": 272,
   "id": "c0130fce",
   "metadata": {},
   "outputs": [],
   "source": [
    "from sklearn.preprocessing import StandardScaler\n",
    "std = StandardScaler()\n",
    "\n",
    "X = std.fit_transform(sold)"
   ]
  },
  {
   "cell_type": "code",
   "execution_count": 273,
   "id": "eafa90d4",
   "metadata": {},
   "outputs": [],
   "source": [
    "from sklearn.model_selection import train_test_split\n",
    "X_train, X_test, y_train, y_test = train_test_split(X, sold_labels, test_size=0.2, random_state=42)"
   ]
  },
  {
   "cell_type": "code",
   "execution_count": 274,
   "id": "13e91187",
   "metadata": {},
   "outputs": [],
   "source": [
    "# These will be used later for Model Comparision\n",
    "names, mses, rmses, r2s = [], [], [], []"
   ]
  },
  {
   "cell_type": "markdown",
   "id": "515d2b4c",
   "metadata": {},
   "source": [
    "### MODEL 1 - Linear Regression  (supervised)\n",
    "Objective: Predict housing prices"
   ]
  },
  {
   "cell_type": "code",
   "execution_count": 275,
   "id": "13e70c4d",
   "metadata": {},
   "outputs": [
    {
     "data": {
      "text/plain": [
       "LinearRegression()"
      ]
     },
     "execution_count": 275,
     "metadata": {},
     "output_type": "execute_result"
    }
   ],
   "source": [
    "from sklearn.linear_model import LinearRegression\n",
    "\n",
    "lin_reg = LinearRegression()\n",
    "lin_reg.fit(X_train,y_train)"
   ]
  },
  {
   "cell_type": "code",
   "execution_count": 306,
   "id": "33cc17f8",
   "metadata": {},
   "outputs": [
    {
     "name": "stdout",
     "output_type": "stream",
     "text": [
      "Test Accuracy: 0.999\n"
     ]
    }
   ],
   "source": [
    "pred1 = lin_reg.predict(X_test)\n",
    "print('Test Accuracy: %.3f' % lin_reg.score(X_test, y_test))"
   ]
  },
  {
   "cell_type": "code",
   "execution_count": 308,
   "id": "62809e7e",
   "metadata": {},
   "outputs": [],
   "source": [
    "#perfomance\n",
    "from sklearn.metrics import mean_squared_error,r2_score"
   ]
  },
  {
   "cell_type": "code",
   "execution_count": 309,
   "id": "7d6fe40b",
   "metadata": {},
   "outputs": [
    {
     "name": "stdout",
     "output_type": "stream",
     "text": [
      "\n",
      "MSE  : 107943378.03965712\n",
      "RMSE : 10389.580262920015\n",
      "R^2  : 0.9990142386597708\n",
      "\n"
     ]
    }
   ],
   "source": [
    "# Performance Measure\n",
    "lr_mse = mean_squared_error(y_test, pred1)\n",
    "lr_rmse = np.sqrt(lr_mse)\n",
    "lr_r2 = r2_score(y_test, pred1)\n",
    "\n",
    "# Show Measures\n",
    "result = '''\n",
    "MSE  : {}\n",
    "RMSE : {}\n",
    "R^2  : {}\n",
    "'''.format(lr_mse, lr_rmse, lr_r2)\n",
    "\n",
    "print(result)\n",
    "\n",
    "# Model Comparision \n",
    "names.append(\"Linear Regression\")\n",
    "mses.append(lr_mse)\n",
    "rmses.append(lr_rmse)\n",
    "r2s.append(lr_r2)"
   ]
  },
  {
   "cell_type": "code",
   "execution_count": 310,
   "id": "c66f2d6c",
   "metadata": {},
   "outputs": [
    {
     "name": "stdout",
     "output_type": "stream",
     "text": [
      "Test Accuracy: 0.950\n"
     ]
    }
   ],
   "source": [
    "from sklearn.pipeline import make_pipeline\n",
    "from sklearn.decomposition import PCA\n",
    "pipe_lr = make_pipeline(StandardScaler(),\n",
    "                        PCA(n_components=2),\n",
    "                        LinearRegression())\n",
    "\n",
    "pipe_lr.fit(X_train, y_train)\n",
    "y_pred = pipe_lr.predict(X_test)\n",
    "print('Test Accuracy: %.3f' % pipe_lr.score(X_test, y_test))"
   ]
  },
  {
   "cell_type": "markdown",
   "id": "4941b867",
   "metadata": {},
   "source": [
    "No need for dimensionality reduction. model accuracy is very high. "
   ]
  },
  {
   "cell_type": "markdown",
   "id": "75106500",
   "metadata": {},
   "source": [
    "## Model 2 Decision Tree Regressor (supervised)\n",
    "Objective: Predict housing prices"
   ]
  },
  {
   "cell_type": "code",
   "execution_count": 322,
   "id": "dae677df",
   "metadata": {},
   "outputs": [
    {
     "name": "stdout",
     "output_type": "stream",
     "text": [
      "Test Accuracy: 0.999\n"
     ]
    }
   ],
   "source": [
    "# Model\n",
    "dtr = DecisionTreeRegressor(max_depth=5, random_state=42)\n",
    "dtr.fit(X_train, y_train)\n",
    "\n",
    "# Prediction\n",
    "pred2 = dtr.predict(X_test)\n",
    "print('Test Accuracy: %.3f' % dtr.score(X_test, y_test))"
   ]
  },
  {
   "cell_type": "markdown",
   "id": "dcbbbb1e",
   "metadata": {},
   "source": [
    "No need for dimensionality reduction. model accuracy is very high."
   ]
  },
  {
   "cell_type": "code",
   "execution_count": 324,
   "id": "8bbbb0ca",
   "metadata": {},
   "outputs": [
    {
     "name": "stdout",
     "output_type": "stream",
     "text": [
      "\n",
      "MSE  : 136659257.15520653\n",
      "RMSE : 10389.580262920015\n",
      "R^2  : 0.9987519992894928\n",
      "\n"
     ]
    }
   ],
   "source": [
    "# Performance Measure\n",
    "dtr_mse = mean_squared_error(y_test, pred4)\n",
    "dtr_rmse = np.sqrt(lr_mse)\n",
    "dtr_r2 = r2_score(y_test, pred4)\n",
    "\n",
    "# Show Measures\n",
    "result = '''\n",
    "MSE  : {}\n",
    "RMSE : {}\n",
    "R^2  : {}\n",
    "'''.format(dtr_mse, dtr_rmse, dtr_r2)\n",
    "\n",
    "print(result)\n",
    "\n",
    "\n",
    "# Model Comparision \n",
    "names.append(\"DTR\")\n",
    "mses.append(dtr_mse)\n",
    "rmses.append(dtr_rmse)\n",
    "r2s.append(dtr_r2)"
   ]
  },
  {
   "cell_type": "code",
   "execution_count": 326,
   "id": "73577ae2",
   "metadata": {},
   "outputs": [
    {
     "name": "stdout",
     "output_type": "stream",
     "text": [
      "Test Accuracy: 0.987\n"
     ]
    }
   ],
   "source": [
    "pipe_lr = make_pipeline(StandardScaler(),\n",
    "                        PCA(n_components=2),\n",
    "                        DecisionTreeRegressor(max_depth=5, random_state=42))\n",
    "\n",
    "pipe_lr.fit(X_train, y_train)\n",
    "y_pred = pipe_lr.predict(X_test)\n",
    "print('Test Accuracy: %.3f' % pipe_lr.score(X_test, y_test))"
   ]
  },
  {
   "cell_type": "markdown",
   "id": "600abdf5",
   "metadata": {},
   "source": [
    "### MODEL 3 KMeans Clustering (unsupervised)\n",
    "objective: Find groups of similar housing for rental investment"
   ]
  },
  {
   "cell_type": "code",
   "execution_count": 327,
   "id": "798dd6a8",
   "metadata": {},
   "outputs": [],
   "source": [
    "from sklearn.cluster import KMeans"
   ]
  },
  {
   "cell_type": "code",
   "execution_count": 328,
   "id": "12833f31",
   "metadata": {},
   "outputs": [
    {
     "data": {
      "text/html": [
       "<div>\n",
       "<style scoped>\n",
       "    .dataframe tbody tr th:only-of-type {\n",
       "        vertical-align: middle;\n",
       "    }\n",
       "\n",
       "    .dataframe tbody tr th {\n",
       "        vertical-align: top;\n",
       "    }\n",
       "\n",
       "    .dataframe thead th {\n",
       "        text-align: right;\n",
       "    }\n",
       "</style>\n",
       "<table border=\"1\" class=\"dataframe\">\n",
       "  <thead>\n",
       "    <tr style=\"text-align: right;\">\n",
       "      <th></th>\n",
       "      <th>SalePrice</th>\n",
       "      <th>rentZestimate</th>\n",
       "    </tr>\n",
       "  </thead>\n",
       "  <tbody>\n",
       "    <tr>\n",
       "      <th>0</th>\n",
       "      <td>412500</td>\n",
       "      <td>2548</td>\n",
       "    </tr>\n",
       "    <tr>\n",
       "      <th>1</th>\n",
       "      <td>189900</td>\n",
       "      <td>1717</td>\n",
       "    </tr>\n",
       "    <tr>\n",
       "      <th>2</th>\n",
       "      <td>600000</td>\n",
       "      <td>3364</td>\n",
       "    </tr>\n",
       "    <tr>\n",
       "      <th>3</th>\n",
       "      <td>350000</td>\n",
       "      <td>2300</td>\n",
       "    </tr>\n",
       "    <tr>\n",
       "      <th>4</th>\n",
       "      <td>360000</td>\n",
       "      <td>2309</td>\n",
       "    </tr>\n",
       "    <tr>\n",
       "      <th>...</th>\n",
       "      <td>...</td>\n",
       "      <td>...</td>\n",
       "    </tr>\n",
       "    <tr>\n",
       "      <th>595</th>\n",
       "      <td>260000</td>\n",
       "      <td>2191</td>\n",
       "    </tr>\n",
       "    <tr>\n",
       "      <th>596</th>\n",
       "      <td>530000</td>\n",
       "      <td>2999</td>\n",
       "    </tr>\n",
       "    <tr>\n",
       "      <th>597</th>\n",
       "      <td>325000</td>\n",
       "      <td>2499</td>\n",
       "    </tr>\n",
       "    <tr>\n",
       "      <th>598</th>\n",
       "      <td>355000</td>\n",
       "      <td>2534</td>\n",
       "    </tr>\n",
       "    <tr>\n",
       "      <th>599</th>\n",
       "      <td>296000</td>\n",
       "      <td>1935</td>\n",
       "    </tr>\n",
       "  </tbody>\n",
       "</table>\n",
       "<p>600 rows × 2 columns</p>\n",
       "</div>"
      ],
      "text/plain": [
       "     SalePrice  rentZestimate\n",
       "0       412500           2548\n",
       "1       189900           1717\n",
       "2       600000           3364\n",
       "3       350000           2300\n",
       "4       360000           2309\n",
       "..         ...            ...\n",
       "595     260000           2191\n",
       "596     530000           2999\n",
       "597     325000           2499\n",
       "598     355000           2534\n",
       "599     296000           1935\n",
       "\n",
       "[600 rows x 2 columns]"
      ]
     },
     "execution_count": 328,
     "metadata": {},
     "output_type": "execute_result"
    }
   ],
   "source": [
    "dataset.iloc[:, [0, 9]]"
   ]
  },
  {
   "cell_type": "code",
   "execution_count": 329,
   "id": "157db133",
   "metadata": {},
   "outputs": [],
   "source": [
    "### Feature sleection for the model\n",
    "#Considering only 2 features ('salprice and area')\n",
    "X = dataset.iloc[:, [0, 9]].values"
   ]
  },
  {
   "cell_type": "code",
   "execution_count": 330,
   "id": "8e80803b",
   "metadata": {},
   "outputs": [],
   "source": [
    "def print_cluster(model, n_clusters, X):\n",
    "    y_km = model.fit_predict(X)\n",
    "    color_list = ['lightgreen', 'orange', 'lightblue', 'red', 'yellow', 'brown', 'cyan', 'blue']\n",
    "    for i in range(n_clusters):\n",
    "        plt.scatter(X[y_km == i, 0],\n",
    "        X[y_km == i, 1],\n",
    "        s=50,\n",
    "        c=color_list[i],\n",
    "        marker='o',\n",
    "        label='cluster ' + str(i))\n",
    "    plt.legend()\n",
    "    plt.grid()\n",
    "    plt.tight_layout()\n",
    "    plt.show()"
   ]
  },
  {
   "cell_type": "code",
   "execution_count": 331,
   "id": "d3e39496",
   "metadata": {},
   "outputs": [],
   "source": [
    "km = KMeans(n_clusters=3, \n",
    "            init='random', \n",
    "            n_init=10, \n",
    "            max_iter=300,\n",
    "            tol=1e-04,\n",
    "            random_state=0)"
   ]
  },
  {
   "cell_type": "code",
   "execution_count": 332,
   "id": "f3849281",
   "metadata": {},
   "outputs": [
    {
     "data": {
      "image/png": "[encoded data removed]",
      "text/plain": [
       "<Figure size 640x480 with 1 Axes>"
      ]
     },
     "metadata": {},
     "output_type": "display_data"
    }
   ],
   "source": [
    "print_cluster(km, 3, X)"
   ]
  },
  {
   "cell_type": "code",
   "execution_count": 333,
   "id": "c4a3d188",
   "metadata": {},
   "outputs": [],
   "source": [
    "def plot_distortions(data):\n",
    "    distortions = []\n",
    "    for i in range(1, 11):\n",
    "        km = KMeans(n_clusters=i, \n",
    "                init='k-means++', \n",
    "                n_init=10, \n",
    "                max_iter=300, \n",
    "                random_state=0)\n",
    "        km.fit(data)\n",
    "        distortions.append(km.inertia_)\n",
    "    plt.plot(range(1, 11), distortions, marker='o')\n",
    "    plt.xlabel('Number of clusters')\n",
    "    plt.ylabel('Distortion')\n",
    "    plt.tight_layout()\n",
    "    plt.show()"
   ]
  },
  {
   "cell_type": "code",
   "execution_count": 334,
   "id": "0b8c747d",
   "metadata": {},
   "outputs": [
    {
     "data": {
      "image/png": "[encoded data removed]",
      "text/plain": [
       "<Figure size 640x480 with 1 Axes>"
      ]
     },
     "metadata": {},
     "output_type": "display_data"
    }
   ],
   "source": [
    "plot_distortions(X_train)"
   ]
  },
  {
   "cell_type": "code",
   "execution_count": null,
   "id": "14e735ca",
   "metadata": {},
   "outputs": [],
   "source": []
  },
  {
   "cell_type": "code",
   "execution_count": null,
   "id": "4c47665e",
   "metadata": {},
   "outputs": [],
   "source": []
  }
 ],
 "metadata": {
  "kernelspec": {
   "display_name": "Python 3 (ipykernel)",
   "language": "python",
   "name": "python3"
  },
  "language_info": {
   "codemirror_mode": {
    "name": "ipython",
    "version": 3
   },
   "file_extension": ".py",
   "mimetype": "text/x-python",
   "name": "python",
   "nbconvert_exporter": "python",
   "pygments_lexer": "ipython3",
   "version": "3.9.13"
  }
 },
 "nbformat": 4,
 "nbformat_minor": 5
}
